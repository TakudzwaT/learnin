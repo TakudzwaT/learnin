{
 "cells": [
  {
   "cell_type": "markdown",
   "id": "1d2b3b4a-ed78-4c24-bc3f-4dc2c75847cb",
   "metadata": {},
   "source": [
    "# Machine Learning Lab 1.1 - Naive Bayes Pt 1"
   ]
  },
  {
   "cell_type": "markdown",
   "id": "f36b6324-60db-441b-956a-8cd718e74a0a",
   "metadata": {},
   "source": [
    "The goal of the lab is build a Naive Bayes classifier from scratch to classify if food reviews are positive or negative. Effectively you are automating the process we performed in class."
   ]
  },
  {
   "cell_type": "markdown",
   "id": "ac6c6e57-5812-42b4-be66-1039e0aaa278",
   "metadata": {},
   "source": [
    "### Imports"
   ]
  },
  {
   "cell_type": "code",
   "execution_count": 25,
   "id": "a7302846-e639-4b34-ba8c-7f8c4f08e2a3",
   "metadata": {},
   "outputs": [],
   "source": [
    "# RUN THIS\n",
    "import numpy as np"
   ]
  },
  {
   "cell_type": "markdown",
   "id": "d42a1300-4dd3-4d24-b742-b4212f190e9f",
   "metadata": {},
   "source": [
    "## Load Data"
   ]
  },
  {
   "cell_type": "markdown",
   "id": "8c19f2e3-1332-4321-9839-9e80072e9a97",
   "metadata": {},
   "source": [
    "This loads the reviews and their corresponding label from `simple-food-reviews.txt` and converts it to an array of `labels` and `reviews`. \n",
    "\n",
    "Each review has a label denoting if the review is positive (1) or negative (-1). "
   ]
  },
  {
   "cell_type": "code",
   "execution_count": 26,
   "id": "1ef30ee5-ce45-476b-816b-79a873adfd02",
   "metadata": {},
   "outputs": [
    {
     "name": "stdout",
     "output_type": "stream",
     "text": [
      "Labels: \n",
      " [1, 1, 1, 1, 1, 1, 1, 1, 1, 1, 1, -1, -1, -1, -1, -1, -1, -1, -1, -1, -1]\n",
      "Reviews: \n",
      " ['the food is lovely', 'this is a great restaurant', 'i really enjoyed my food', 'i enjoyed the experience at the restaurant', 'we had a lovely meal', 'my food tasted great', 'the food was lovely and the service was not bad', 'the service was great', 'what a lovely restaurant', 'the food the service and the restaurant was great', 'this restaurant is lovely', 'the service is terrible', 'the food tasted awful', 'this is a bad restaurant  ', 'the food was really bad', 'the service and the food was terrible', 'we had a terrible experience', 'avoid this restaurant', 'avoid the food', 'the meal was terrible', 'the service was bad']\n"
     ]
    }
   ],
   "source": [
    "# RUN THIS\n",
    "labels = []\n",
    "reviews = []\n",
    "with open(\"simple-food-reviews.txt\", \"r\") as f:\n",
    "    lines = f.readlines()\n",
    "    for line in lines:\n",
    "        line = line.replace(\"\\n\", \"\")\n",
    "        words = line.split(\" \")\n",
    "        label = int(words[0])\n",
    "        review = \" \".join(words[1:])\n",
    "        labels.append(label)\n",
    "        reviews.append(review)\n",
    "        \n",
    "print(\"Labels: \\n\", labels)\n",
    "print(\"Reviews: \\n\", reviews)"
   ]
  },
  {
   "cell_type": "markdown",
   "id": "7f2f9ab1-5b5e-4520-a1b0-895eef3610cd",
   "metadata": {},
   "source": [
    "## Process Features"
   ]
  },
  {
   "cell_type": "markdown",
   "id": "4af0a708-eda8-4b6a-aede-5d7aa7c92610",
   "metadata": {},
   "source": [
    "#### Question 1\n",
    "Create a 'bag of words' from the dataset of `reviews`. This 'bag of words' should be a list containing each **unique** word contained in the dataset. Do not do this manually, i.e. do not just directly specify `bag_of_words = ['the', 'food', 'is', 'lovely', ...]`. If you do this the answer will be marked wrong."
   ]
  },
  {
   "cell_type": "code",
   "execution_count": 27,
   "id": "9c130a6c-7ab2-4be5-9ab7-ae04443c6a00",
   "metadata": {},
   "outputs": [
    {
     "name": "stdout",
     "output_type": "stream",
     "text": [
      "['the', 'food', 'is', 'lovely', 'this', 'a', 'great', 'restaurant', 'i', 'really', 'enjoyed', 'my', 'experience', 'at', 'we', 'had', 'meal', 'tasted', 'was', 'and', 'service', 'not', 'bad', 'what', 'terrible', 'awful', 'avoid']\n"
     ]
    }
   ],
   "source": [
    "bag_of_words = []\n",
    "for sentence in reviews:\n",
    "    words = sentence.split()\n",
    "    for word in words:\n",
    "        n = len(bag_of_words)\n",
    "        if n==0:\n",
    "            bag_of_words.append(word)\n",
    "        isin=False\n",
    "        for bword in bag_of_words:\n",
    "            if word==bword:\n",
    "                isin=True\n",
    "        if isin== False:\n",
    "            bag_of_words.append(word)\n",
    "            \n",
    "print(bag_of_words)\n"
   ]
  },
  {
   "cell_type": "markdown",
   "id": "92c884a4-e6d6-4542-abc9-b3cf3057b635",
   "metadata": {},
   "source": [
    "#### Question 2\n",
    "Using the bag of words finish the function `create_features` method that transforms a text review into a boolean vector representing which word in the bag_of_words is present in that review. \n",
    "\n",
    "The ordering of the words represented in the vector should follow the order in which those words first appear in the dataset. I.e., the first element of the first vector should correspond to 'the', the second should correspond to 'food' and so on.\n",
    "\n",
    "The correct representation for the first review is given to test the correctness of your implementation of `create_features`."
   ]
  },
  {
   "cell_type": "code",
   "execution_count": 28,
   "id": "b04e4cf5-3b38-4cfe-94ec-9607b0c889aa",
   "metadata": {},
   "outputs": [
    {
     "name": "stdout",
     "output_type": "stream",
     "text": [
      "Your review 1 features: [1, 1, 1, 1, 0, 0, 0, 0, 0, 0, 0, 0, 0, 0, 0, 0, 0, 0, 0, 0, 0, 0, 0, 0, 0, 0, 0]\n",
      "Correct review 1 features: [1, 1, 1, 1, 0, 0, 0, 0, 0, 0, 0, 0, 0, 0, 0, 0, 0, 0, 0, 0, 0, 0, 0, 0, 0, 0, 0]\n",
      "\n",
      "create_features correct for first review: review_1_features = correct_features\n"
     ]
    }
   ],
   "source": [
    "def create_features(review):\n",
    "    review_features = []\n",
    "    alreadyAdded = []\n",
    "    rWords = review.split()\n",
    "    for tword in bag_of_words:\n",
    "        isin = False\n",
    "        for word in rWords:\n",
    "            if word==tword:\n",
    "                if word not in alreadyAdded:\n",
    "                    alreadyAdded.append(word)\n",
    "                    isin=True\n",
    "        if isin==True:\n",
    "            review_features.append(1)\n",
    "        else:\n",
    "            review_features.append(0)\n",
    "            \n",
    "        \n",
    "    \n",
    "    # Note: return a python list of 1s or 0s \n",
    "    return review_features\n",
    "\n",
    "\n",
    "# DO NOT MODIFY ANYTHING UNDER HERE\n",
    "review_1_features = create_features(reviews[0])\n",
    "print(f\"Your review 1 features: {review_1_features}\")\n",
    "\n",
    "correct_features = [1, 1, 1, 1, 0, 0, 0, 0, 0, 0, 0, 0, 0, 0, 0, 0, 0, 0, 0, 0, 0, 0, 0, 0, 0, 0, 0]\n",
    "print(f\"Correct review 1 features: {correct_features}\\n\")\n",
    "\n",
    "if review_1_features == correct_features:\n",
    "    print(f\"create_features correct for first review: review_1_features = correct_features\")\n",
    "else:\n",
    "    print(f\"create_features incorrect for first review: review_1_features != correct_features\")"
   ]
  },
  {
   "cell_type": "markdown",
   "id": "1f58d241-24f1-4ec5-a754-b4db070ebcbd",
   "metadata": {},
   "source": [
    "#### Process All Reviews"
   ]
  },
  {
   "cell_type": "code",
   "execution_count": 29,
   "id": "852d213a-ebb5-4bcb-999b-bb6d0e4f48a6",
   "metadata": {},
   "outputs": [
    {
     "name": "stdout",
     "output_type": "stream",
     "text": [
      "First two feature vectors:\n",
      "[[1, 1, 1, 1, 0, 0, 0, 0, 0, 0, 0, 0, 0, 0, 0, 0, 0, 0, 0, 0, 0, 0, 0, 0, 0, 0, 0], [0, 0, 1, 0, 1, 1, 1, 1, 0, 0, 0, 0, 0, 0, 0, 0, 0, 0, 0, 0, 0, 0, 0, 0, 0, 0, 0]]\n"
     ]
    }
   ],
   "source": [
    "# RUN THIS\n",
    "review_features = [create_features(review) for review in reviews]\n",
    "print(\"First two feature vectors:\")\n",
    "print(review_features[:2])"
   ]
  },
  {
   "cell_type": "markdown",
   "id": "fecd2e22-da46-4afd-846c-1a72e139dc71",
   "metadata": {},
   "source": [
    "## Train Test Split\n",
    "This time round we will not create a validation split since we are not changing any hyperparameters.\n",
    "\n",
    "This will be done for you in this lab. In this case the reviews for the train and test are choosen manually for convenience, but this will not usually be the case. Usually they are choosen randomly.\n",
    "\n",
    "**N.B.** The below code block was modified from the previous version"
   ]
  },
  {
   "cell_type": "code",
   "execution_count": 30,
   "id": "14f88d25-78e0-4215-ac0c-3172a5437baa",
   "metadata": {},
   "outputs": [
    {
     "name": "stdout",
     "output_type": "stream",
     "text": [
      "###############\n",
      "# TRAIN SPLIT #\n",
      "###############\n",
      "\n",
      "train_reviews:\n",
      " ['the food is lovely', 'this is a great restaurant', 'i really enjoyed my food', 'i enjoyed the experience at the restaurant', 'we had a lovely meal', 'my food tasted great', 'the food was lovely and the service was not bad', 'the service was great', 'what a lovely restaurant', 'the food the service and the restaurant was great', 'the service is terrible', 'the food tasted awful', 'this is a bad restaurant  ', 'the food was really bad', 'the service and the food was terrible', 'we had a terrible experience', 'avoid this restaurant', 'avoid the food', 'the meal was terrible']\n",
      "train_features:\n",
      " [[1, 1, 1, 1, 0, 0, 0, 0, 0, 0, 0, 0, 0, 0, 0, 0, 0, 0, 0, 0, 0, 0, 0, 0, 0, 0, 0], [0, 0, 1, 0, 1, 1, 1, 1, 0, 0, 0, 0, 0, 0, 0, 0, 0, 0, 0, 0, 0, 0, 0, 0, 0, 0, 0], [0, 1, 0, 0, 0, 0, 0, 0, 1, 1, 1, 1, 0, 0, 0, 0, 0, 0, 0, 0, 0, 0, 0, 0, 0, 0, 0], [1, 0, 0, 0, 0, 0, 0, 1, 1, 0, 1, 0, 1, 1, 0, 0, 0, 0, 0, 0, 0, 0, 0, 0, 0, 0, 0], [0, 0, 0, 1, 0, 1, 0, 0, 0, 0, 0, 0, 0, 0, 1, 1, 1, 0, 0, 0, 0, 0, 0, 0, 0, 0, 0], [0, 1, 0, 0, 0, 0, 1, 0, 0, 0, 0, 1, 0, 0, 0, 0, 0, 1, 0, 0, 0, 0, 0, 0, 0, 0, 0], [1, 1, 0, 1, 0, 0, 0, 0, 0, 0, 0, 0, 0, 0, 0, 0, 0, 0, 1, 1, 1, 1, 1, 0, 0, 0, 0], [1, 0, 0, 0, 0, 0, 1, 0, 0, 0, 0, 0, 0, 0, 0, 0, 0, 0, 1, 0, 1, 0, 0, 0, 0, 0, 0], [0, 0, 0, 1, 0, 1, 0, 1, 0, 0, 0, 0, 0, 0, 0, 0, 0, 0, 0, 0, 0, 0, 0, 1, 0, 0, 0], [1, 1, 0, 0, 0, 0, 1, 1, 0, 0, 0, 0, 0, 0, 0, 0, 0, 0, 1, 1, 1, 0, 0, 0, 0, 0, 0], [1, 0, 1, 0, 0, 0, 0, 0, 0, 0, 0, 0, 0, 0, 0, 0, 0, 0, 0, 0, 1, 0, 0, 0, 1, 0, 0], [1, 1, 0, 0, 0, 0, 0, 0, 0, 0, 0, 0, 0, 0, 0, 0, 0, 1, 0, 0, 0, 0, 0, 0, 0, 1, 0], [0, 0, 1, 0, 1, 1, 0, 1, 0, 0, 0, 0, 0, 0, 0, 0, 0, 0, 0, 0, 0, 0, 1, 0, 0, 0, 0], [1, 1, 0, 0, 0, 0, 0, 0, 0, 1, 0, 0, 0, 0, 0, 0, 0, 0, 1, 0, 0, 0, 1, 0, 0, 0, 0], [1, 1, 0, 0, 0, 0, 0, 0, 0, 0, 0, 0, 0, 0, 0, 0, 0, 0, 1, 1, 1, 0, 0, 0, 1, 0, 0], [0, 0, 0, 0, 0, 1, 0, 0, 0, 0, 0, 0, 1, 0, 1, 1, 0, 0, 0, 0, 0, 0, 0, 0, 1, 0, 0], [0, 0, 0, 0, 1, 0, 0, 1, 0, 0, 0, 0, 0, 0, 0, 0, 0, 0, 0, 0, 0, 0, 0, 0, 0, 0, 1], [1, 1, 0, 0, 0, 0, 0, 0, 0, 0, 0, 0, 0, 0, 0, 0, 0, 0, 0, 0, 0, 0, 0, 0, 0, 0, 1], [1, 0, 0, 0, 0, 0, 0, 0, 0, 0, 0, 0, 0, 0, 0, 0, 1, 0, 1, 0, 0, 0, 0, 0, 1, 0, 0]]\n",
      "train_labels\n",
      " [1, 1, 1, 1, 1, 1, 1, 1, 1, 1, -1, -1, -1, -1, -1, -1, -1, -1, -1]\n",
      "\n",
      "###############\n",
      "# TEST SPLIT #\n",
      "###############\n",
      "\n",
      "test_reviews:\n",
      " ['this restaurant is lovely', 'the service was bad']\n",
      "test_features:\n",
      " [[0, 0, 1, 1, 1, 0, 0, 1, 0, 0, 0, 0, 0, 0, 0, 0, 0, 0, 0, 0, 0, 0, 0, 0, 0, 0, 0], [1, 0, 0, 0, 0, 0, 0, 0, 0, 0, 0, 0, 0, 0, 0, 0, 0, 0, 1, 0, 1, 0, 1, 0, 0, 0, 0]]\n",
      "test_labels\n",
      " [1, -1]\n"
     ]
    }
   ],
   "source": [
    "# RUN THIS\n",
    "\n",
    "print(\"###############\")\n",
    "print(\"# TRAIN SPLIT #\")\n",
    "print(\"###############\\n\")\n",
    "# Train Split - ~90%\n",
    "train_reviews = reviews[:10] + reviews[11:-1]\n",
    "train_features = review_features[:10] + review_features[11:-1]\n",
    "train_labels = labels[:10] + labels[11:-1]\n",
    "\n",
    "print(\"train_reviews:\\n\", train_reviews)\n",
    "print(\"train_features:\\n\", train_features)\n",
    "print(\"train_labels\\n\", train_labels)\n",
    "\n",
    "\n",
    "print(\"\\n###############\")\n",
    "print(\"# TEST SPLIT #\")\n",
    "print(\"###############\\n\")\n",
    "# Train Split - ~90%\n",
    "test_reviews = [reviews[10], reviews[-1]]\n",
    "test_features = [review_features[10], review_features[-1]]\n",
    "test_labels = [labels[10], labels[-1]]\n",
    "\n",
    "print(\"test_reviews:\\n\", test_reviews)\n",
    "print(\"test_features:\\n\", test_features)\n",
    "print(\"test_labels\\n\", test_labels)"
   ]
  },
  {
   "cell_type": "markdown",
   "id": "309db00a-73af-4832-93cb-3c6548ec1959",
   "metadata": {},
   "source": [
    "## Naive Bayes - The fun stuff"
   ]
  },
  {
   "cell_type": "markdown",
   "id": "e8dae82c-7d55-4a8c-ae0d-e036647f8e37",
   "metadata": {},
   "source": [
    "### Learning"
   ]
  },
  {
   "cell_type": "markdown",
   "id": "a7f0c105-d3c0-4c1e-b6e2-3d00ae19b7e3",
   "metadata": {},
   "source": [
    "#### Question 3\n",
    "Compute the prior probabilities of the classes/labels 'negative' (-1) and 'positive' (1) using on the training dataset. Set these probabilities to the variables `p_neg` and `p_pos` respectively."
   ]
  },
  {
   "cell_type": "code",
   "execution_count": 31,
   "id": "5e1d2c02-6fba-46f9-ad7d-374ef165d778",
   "metadata": {},
   "outputs": [
    {
     "name": "stdout",
     "output_type": "stream",
     "text": [
      "p_pos = 0.5263157894736842\n",
      "p_neg = 0.47368421052631576\n"
     ]
    }
   ],
   "source": [
    "p_pos = 10/19\n",
    "p_neg = 9/19\n",
    "\n",
    "print(f\"p_pos = {p_pos}\")\n",
    "print(f\"p_neg = {p_neg}\")"
   ]
  },
  {
   "cell_type": "markdown",
   "id": "7e303064-e800-4e47-83e3-ac2ea597417a",
   "metadata": {},
   "source": [
    "#### Question 4"
   ]
  },
  {
   "cell_type": "markdown",
   "id": "cd9f9d50-2f35-4107-8eb7-3ef9545207ab",
   "metadata": {},
   "source": [
    "Compute the class conditional models for each feature and class. Each element should correspond to the conditional prob of a word occuring given an associated class. The rows should correspond to the feature and should have the same ordering as the words in the vector representation of reviews. The columns should correspond to the classes with the first column corresponding to `positive` and the second corresponding to `negative`. \n",
    "\n",
    "I.e., I wish for you to create a similar table (specifically a numpy array) as the one seen in the lecture."
   ]
  },
  {
   "cell_type": "code",
   "execution_count": 36,
   "id": "b9c216d8-5778-418f-a137-740b313d6f2c",
   "metadata": {},
   "outputs": [
    {
     "name": "stdout",
     "output_type": "stream",
     "text": [
      "\n",
      "class_conditionals =\n",
      " [[0.5        0.5        0.2        0.4        0.1        0.3\n",
      "  0.4        0.4        0.2        0.1        0.2        0.2\n",
      "  0.1        0.1        0.1        0.1        0.1        0.1\n",
      "  0.3        0.2        0.3        0.1        0.1        0.1\n",
      "  0.         0.         0.        ]\n",
      " [0.66666667 0.44444444 0.22222222 0.         0.22222222 0.22222222\n",
      "  0.         0.22222222 0.         0.11111111 0.         0.\n",
      "  0.11111111 0.         0.11111111 0.11111111 0.11111111 0.11111111\n",
      "  0.33333333 0.11111111 0.22222222 0.         0.22222222 0.\n",
      "  0.44444444 0.11111111 0.22222222]]\n"
     ]
    }
   ],
   "source": [
    "import numpy as np\n",
    "# The variable is created for you but is filled with zeros\n",
    "class_conditionals = np.zeros((2, len(bag_of_words)))\n",
    "pos =0\n",
    "neg=1\n",
    "n = len(bag_of_words)\n",
    "for i in range(0,n):\n",
    "    count =0\n",
    "    ocp = 0\n",
    "    ocn = 0\n",
    "    for encw in train_features:\n",
    "        if  encw[i]==1 and  train_labels[count]==1:\n",
    "            ocp +=1\n",
    "        if encw[i]==1 and train_labels[count]==-1:\n",
    "            ocn +=1\n",
    "        count +=1\n",
    "    prop = ocp/10\n",
    "    pron = ocn/9\n",
    "    class_conditionals[0,i]=prop\n",
    "    class_conditionals[1,i]=pron\n",
    "        \n",
    "        \n",
    "        \n",
    "print(f\"\\nclass_conditionals =\\n {class_conditionals}\")"
   ]
  },
  {
   "cell_type": "markdown",
   "id": "c442dbaa-639f-4d6c-b253-00ddbd625714",
   "metadata": {},
   "source": [
    "### Inference\n",
    "\n",
    "Next we will infer the associated class/label for the review 'the food the service and the restaurant was great` which will have had its associated features computed previously."
   ]
  },
  {
   "cell_type": "code",
   "execution_count": 16,
   "id": "56d786d3-eb74-4c94-8fd5-fadd50826716",
   "metadata": {},
   "outputs": [
    {
     "name": "stdout",
     "output_type": "stream",
     "text": [
      "Infer Review:  the service was bad\n",
      "Infer Features:  [1, 0, 0, 0, 0, 0, 0, 0, 0, 0, 0, 0, 0, 0, 0, 0, 0, 0, 1, 0, 1, 0, 1, 0, 0, 0, 0]\n"
     ]
    }
   ],
   "source": [
    "# RUN THIS\n",
    "infer_review = test_reviews[1]\n",
    "infer_features = test_features[1]\n",
    "\n",
    "print(\"Infer Review: \", infer_review)\n",
    "print(\"Infer Features: \", infer_features)"
   ]
  },
  {
   "cell_type": "markdown",
   "id": "e39da6de-52f2-4e3b-abb5-81c4907d0dff",
   "metadata": {},
   "source": [
    "#### Question 5\n",
    "Compute the class conditional models for `infer_features` for both the positive and negative classes. Remember to use the conditional independence assumption.\n",
    "\n",
    "**a)** Compute P(X=infer_features|C=positive) "
   ]
  },
  {
   "cell_type": "code",
   "execution_count": null,
   "id": "28de5110-b8be-40f9-946a-1bc4c7313a28",
   "metadata": {},
   "outputs": [],
   "source": [
    "# Class conditional model for infer_features and positive class\n",
    "class_cond_pos = ...\n",
    "\n",
    "print(class_cond_pos)"
   ]
  },
  {
   "cell_type": "markdown",
   "id": "6d133f9f-1559-45a9-a4ea-96b6657632a1",
   "metadata": {},
   "source": [
    "**b)** Compute P(X=infer_features|C=negative) "
   ]
  },
  {
   "cell_type": "code",
   "execution_count": null,
   "id": "bc6a3019-836a-4d40-af76-cf2503a8325a",
   "metadata": {},
   "outputs": [],
   "source": [
    "# Class conditional model for infer_features and negative class\n",
    "class_cond_neg = ...\n",
    "\n",
    "print(class_cond_neg)"
   ]
  },
  {
   "cell_type": "markdown",
   "id": "b604a6d9-02ee-4500-be58-6a8a71dea003",
   "metadata": {},
   "source": [
    "#### Question 6\n",
    "Compute the probability of infer_features (i.e. the normalisation term) using the formula provided in the last lecture. \n",
    "\n",
    "I.e. compute P(X=infer_features)"
   ]
  },
  {
   "cell_type": "code",
   "execution_count": null,
   "id": "356eb487-ec6b-464a-ad0a-d0741db787de",
   "metadata": {},
   "outputs": [],
   "source": [
    "# TODO: Calc value of P(X=infer_features) and set to p_infer_features\n",
    "p_infer_features = ... \n",
    "\n",
    "print(p_infer_features)"
   ]
  },
  {
   "cell_type": "markdown",
   "id": "552b3099-76c7-4179-b54c-dab465e1b3e0",
   "metadata": {},
   "source": [
    "#### Question 7\n",
    "Now using the previous results compute the conditional probability of the class 'positive' given the data infer_features and then compute the same for 'negative'"
   ]
  },
  {
   "cell_type": "markdown",
   "id": "73cdd1c0-b6f0-4309-b1fb-61f9f36b7cdc",
   "metadata": {},
   "source": [
    "**a)** Compute P(C=positive|infer_features)"
   ]
  },
  {
   "cell_type": "code",
   "execution_count": null,
   "id": "ad836648-0749-4ace-b974-ee088bf5e632",
   "metadata": {},
   "outputs": [],
   "source": [
    "# TODO: Set p_cond_pos to P(C=positive|infer_features)\n",
    "p_cond_pos = ...\n",
    "\n",
    "print(p_cond_pos)"
   ]
  },
  {
   "cell_type": "markdown",
   "id": "87d2d2d6-7624-4e36-94a7-98837bb0999b",
   "metadata": {},
   "source": [
    "**b)** Compute P(C=negative|infer_features)"
   ]
  },
  {
   "cell_type": "code",
   "execution_count": null,
   "id": "dd8fcb54-89eb-4dcf-a9db-d17e06cb110c",
   "metadata": {},
   "outputs": [],
   "source": [
    "# TODO: Set p_cond_neg to P(C=negative|infer_features)\n",
    "p_cond_neg = ...\n",
    "\n",
    "print(p_cond_neg)"
   ]
  },
  {
   "cell_type": "markdown",
   "id": "0262f110-14f2-4d33-9db9-6509d3555d86",
   "metadata": {},
   "source": [
    "**Tip:** Check your answers for `p_cond_pos` and `p_cond_neg` by summing them and seeing if the add up to 1 - which they should, due to the sum rule."
   ]
  },
  {
   "cell_type": "code",
   "execution_count": null,
   "id": "f9bc15e2-b01c-40c2-9297-cfa12896a7f9",
   "metadata": {},
   "outputs": [],
   "source": [
    "p_cond_pos + p_cond_neg"
   ]
  },
  {
   "cell_type": "markdown",
   "id": "6d6d26f4-c7bf-4cc2-b5ba-837b38b4bb4e",
   "metadata": {},
   "source": [
    "#### Question 8\n",
    "Now finally predict the most likely class/label for this review."
   ]
  },
  {
   "cell_type": "code",
   "execution_count": null,
   "id": "4bcc82ad-0d36-44d9-9947-d3e4be1dd6ee",
   "metadata": {},
   "outputs": [],
   "source": [
    "# Which class has highest probability?\n",
    "pred_label = ...\n",
    "\n",
    "print(f\"The predicted label for the review '{infer_review}' is {pred_label}\")\n",
    "# print(pred_label)"
   ]
  },
  {
   "cell_type": "markdown",
   "id": "37fc635f-9a54-4933-8f81-b5c29cc81318",
   "metadata": {},
   "source": [
    "# END"
   ]
  }
 ],
 "metadata": {
  "kernelspec": {
   "display_name": "Python 3 (ipykernel)",
   "language": "python",
   "name": "python3"
  },
  "language_info": {
   "codemirror_mode": {
    "name": "ipython",
    "version": 3
   },
   "file_extension": ".py",
   "mimetype": "text/x-python",
   "name": "python",
   "nbconvert_exporter": "python",
   "pygments_lexer": "ipython3",
   "version": "3.11.10"
  }
 },
 "nbformat": 4,
 "nbformat_minor": 5
}
